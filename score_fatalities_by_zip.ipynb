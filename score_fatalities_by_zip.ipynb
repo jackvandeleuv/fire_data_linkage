{
 "cells": [
  {
   "cell_type": "code",
   "execution_count": 2,
   "metadata": {},
   "outputs": [],
   "source": [
    "import pandas as pd\n",
    "from pandas import DataFrame\n",
    "import numpy as np\n",
    "import sqlite3\n",
    "import matplotlib.pyplot as plt\n",
    "import seaborn as sns"
   ]
  },
  {
   "cell_type": "markdown",
   "metadata": {},
   "source": [
    "## Inspection score vs number of fatalities"
   ]
  },
  {
   "cell_type": "markdown",
   "metadata": {},
   "source": [
    "In addition to incident type, we will also look to see if there is a relationship between zipcodes with a high proportion of fires resulting in fatalities and zipcodes with low mean inspection scores."
   ]
  },
  {
   "cell_type": "markdown",
   "metadata": {},
   "source": [
    "We'll group our SQL query by the OTH_DEATH column (which indicates non-fire fighter fatality), and get the row counts for each group."
   ]
  },
  {
   "cell_type": "code",
   "execution_count": 3,
   "metadata": {},
   "outputs": [],
   "source": [
    "WORKING_DIR = 'D:/Fire Project/data/'"
   ]
  },
  {
   "cell_type": "code",
   "execution_count": 4,
   "metadata": {},
   "outputs": [],
   "source": [
    "conn = sqlite3.Connection('fire_data.db')\n",
    "pd.set_option('display.max_columns', None)\n",
    "result = pd.read_sql(\"\"\"\n",
    "    WITH modified_table AS (\n",
    "    SELECT t1.*,\n",
    "            COALESCE(t1.OTH_DEATH, 0) AS OTH_DEATH_MODIFIED,\n",
    "            t2.ZIP5\n",
    "        FROM basic_incident t1\n",
    "        JOIN incident_address t2 \n",
    "            ON t1.INCIDENT_KEY = t2.INCIDENT_KEY\n",
    "        )\n",
    "        SELECT\n",
    "        CASE\n",
    "            WHEN OTH_DEATH_MODIFIED = 0 THEN '0'\n",
    "            WHEN OTH_DEATH_MODIFIED = 1 THEN '1'\n",
    "            WHEN OTH_DEATH_MODIFIED = 2 THEN '2'\n",
    "            WHEN OTH_DEATH_MODIFIED = 3 THEN '3'\n",
    "            ELSE 'more than 3'\n",
    "        END AS OTH_DEATH_GROUP,\n",
    "        ZIP5 as zip,\n",
    "        COUNT(*) AS ROW_COUNT\n",
    "    FROM modified_table\n",
    "    GROUP BY OTH_DEATH_GROUP, ZIP5\n",
    "    ORDER BY OTH_DEATH_GROUP, ZIP5\n",
    "\"\"\", conn)"
   ]
  },
  {
   "cell_type": "markdown",
   "metadata": {},
   "source": [
    "Then we'll convert the raw counts to proportions, so that every row in our resulting DataFrame is a unique zipcode, and the counts of different levels of fatality counts are combined to form proportions."
   ]
  },
  {
   "cell_type": "code",
   "execution_count": 5,
   "metadata": {},
   "outputs": [],
   "source": [
    "# Group the DataFrame by ZIP5 and OTH_DEATH_GROUP, summing the ROW_COUNT\n",
    "grouped_df = result.groupby([\"zip\", \"OTH_DEATH_GROUP\"]).sum()\n",
    "\n",
    "# Unstack the DataFrame to get unique ZIP5 as index and OTH_DEATH_GROUP as columns\n",
    "unstacked_df = grouped_df.unstack(level=-1)\n",
    "\n",
    "unstacked_df.fillna(0, inplace=True)\n",
    "row_sums = unstacked_df.sum(axis=1)\n",
    "\n",
    "# Calculate proportions by dividing each row by the row sum\n",
    "proportions_df = unstacked_df.div(row_sums, axis=0)\n",
    "\n",
    "proportions_df.columns = [f'proportion_DEATH_{col[1]}' for col in proportions_df.columns]\n",
    "proportions_df = proportions_df.reset_index()"
   ]
  },
  {
   "cell_type": "markdown",
   "metadata": {},
   "source": [
    "We'll remove the bad zipcode values from the NFIRS dataset (which are non-numeric or not 5-digits)."
   ]
  },
  {
   "cell_type": "code",
   "execution_count": 6,
   "metadata": {},
   "outputs": [],
   "source": [
    "valid_zip_mask = proportions_df['zip'].astype(str).str.match(r'^\\d{5}$')\n",
    "proportions_df = proportions_df[valid_zip_mask]"
   ]
  },
  {
   "cell_type": "markdown",
   "metadata": {},
   "source": [
    "We'll load the most recent REAC scores for public and multifamily housing into DataFrames."
   ]
  },
  {
   "cell_type": "code",
   "execution_count": 7,
   "metadata": {},
   "outputs": [],
   "source": [
    "multifamily = pd.read_excel(WORKING_DIR + 'multifamily_physical_inspection_scores_0321.xlsx')\n",
    "public = pd.read_excel(WORKING_DIR + 'public_housing_physical_inspection_scores_0321.xlsx')"
   ]
  },
  {
   "cell_type": "markdown",
   "metadata": {},
   "source": [
    "Combine our two sets of REAC scores into one DataFrame."
   ]
  },
  {
   "cell_type": "code",
   "execution_count": 8,
   "metadata": {},
   "outputs": [],
   "source": [
    "reac = pd.concat([public, multifamily])"
   ]
  },
  {
   "cell_type": "markdown",
   "metadata": {},
   "source": [
    "Overall we have 1818 properties with 333 being public housing and the rest being multifamily."
   ]
  },
  {
   "cell_type": "markdown",
   "metadata": {},
   "source": [
    "Let's get the average REAC score for each zipcode. We'll rename the index and cast it to int for the sake of compatibility with the NFIRST values."
   ]
  },
  {
   "cell_type": "code",
   "execution_count": 9,
   "metadata": {},
   "outputs": [
    {
     "data": {
      "text/plain": [
       "zip\n",
       "39212    84.25\n",
       "Name: INSPECTION_SCORE, dtype: float64"
      ]
     },
     "execution_count": 9,
     "metadata": {},
     "output_type": "execute_result"
    }
   ],
   "source": [
    "mean_scores = reac.groupby(by='ZIPCODE').INSPECTION_SCORE.mean()\n",
    "mean_scores = mean_scores.rename_axis('zip')\n",
    "mean_scores.index = mean_scores.index.astype(int)\n",
    "mean_scores.sample()"
   ]
  },
  {
   "cell_type": "markdown",
   "metadata": {},
   "source": [
    "Now we can merge the NFIRS fatalities DataFrame with the mean_scores from earlier, which contains the average REAC score in every zipcode in the REAC dataset."
   ]
  },
  {
   "cell_type": "code",
   "execution_count": 10,
   "metadata": {},
   "outputs": [],
   "source": [
    "# Cast to int for compatability\n",
    "mean_scores.index = mean_scores.index.astype(int)\n",
    "\n",
    "fatalities_scores = pd.merge(proportions_df, mean_scores, how='inner', on='zip')"
   ]
  },
  {
   "cell_type": "markdown",
   "metadata": {},
   "source": [
    "Now we can plot a coorelation matrix with the results."
   ]
  },
  {
   "cell_type": "code",
   "execution_count": 11,
   "metadata": {},
   "outputs": [
    {
     "data": {
      "text/plain": [
       "proportion_DEATH_0             -0.001484\n",
       "proportion_DEATH_1             -0.003542\n",
       "proportion_DEATH_2              0.011375\n",
       "proportion_DEATH_3             -0.014722\n",
       "proportion_DEATH_more than 3   -0.002307\n",
       "INSPECTION_SCORE                1.000000\n",
       "Name: INSPECTION_SCORE, dtype: float64"
      ]
     },
     "execution_count": 11,
     "metadata": {},
     "output_type": "execute_result"
    }
   ],
   "source": [
    "fatalities_scores.corr().INSPECTION_SCORE"
   ]
  }
 ],
 "metadata": {
  "kernelspec": {
   "display_name": "base",
   "language": "python",
   "name": "python3"
  },
  "language_info": {
   "codemirror_mode": {
    "name": "ipython",
    "version": 3
   },
   "file_extension": ".py",
   "mimetype": "text/x-python",
   "name": "python",
   "nbconvert_exporter": "python",
   "pygments_lexer": "ipython3",
   "version": "3.9.13"
  },
  "orig_nbformat": 4
 },
 "nbformat": 4,
 "nbformat_minor": 2
}
