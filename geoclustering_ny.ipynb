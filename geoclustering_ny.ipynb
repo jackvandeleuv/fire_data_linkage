{
 "cells": [
  {
   "cell_type": "code",
   "execution_count": null,
   "metadata": {},
   "outputs": [],
   "source": [
    "import requests\n",
    "from requests import Session\n",
    "import os\n",
    "import pandas as pd\n",
    "from pandas import DataFrame\n",
    "import sqlite3\n",
    "from typing import Tuple\n",
    "from geopy.distance import geodesic\n",
    "import matplotlib.pyplot as plt\n",
    "import seaborn as sns"
   ]
  },
  {
   "cell_type": "markdown",
   "metadata": {},
   "source": [
    "## Exploratory analysis of New York data by geocode"
   ]
  },
  {
   "cell_type": "code",
   "execution_count": null,
   "metadata": {},
   "outputs": [],
   "source": [
    "WORKING_DIR = 'D:/Fire Project/data/'\n",
    "NFIRS_PATHS = ['nfirs_fire_hazmat_pdr_2020/NFIRS_FIRES_2020_022322',\n",
    "                 'USFA NFIRS 2019 Hazmat/NFIRS_FIRES_2019_011921',\n",
    "                 'USFA NFIRS 2018 Hazmat/NFIRS_FIRES_2018_110119',\n",
    "                 'USFA NFIRS 2017 Hazmat/NFIRS_FIRES_2017_020719',\n",
    "                 'USFA NFIRS 2016 Hazmat/NFIRS_FIRES_2016_02-05-2018',\n",
    "                 'USFA NFIRS 2015 Hazmat/NFIRS_FIRES_2015_20170215']"
   ]
  },
  {
   "cell_type": "markdown",
   "metadata": {},
   "source": [
    "Now that we've collected the longitude/latitude for the different fire incidents in New York, we'll try to link the two arrays based on points that are close to each other."
   ]
  },
  {
   "cell_type": "markdown",
   "metadata": {},
   "source": [
    "We will combine the two sets of latitude/longitudes into one dataset (with labels indicating which of the datasets they come from: REAC multifamily, REAC public hosuing, or NFIRS). This will allow us to do our clustering analysis."
   ]
  },
  {
   "cell_type": "code",
   "execution_count": null,
   "metadata": {},
   "outputs": [],
   "source": [
    "conn = sqlite3.Connection('fire_data.db')\n",
    "cur = conn.cursor()\n",
    "nfirs_points = pd.read_sql(\"\"\"\n",
    "SELECT latitude, longitude, INCIDENT_KEY, \"NFIRS\" as dataset\n",
    "FROM address_geocoded\n",
    "\"\"\", conn)\n",
    "\n",
    "multifamily = pd.read_excel(WORKING_DIR + 'multifamily_physical_inspection_scores_0321.xlsx')\n",
    "multifamily_points = multifamily.loc[:, ['LATITUDE', 'LONGITUDE', 'INSPECTION_ID']]\n",
    "\n",
    "public_housing = pd.read_excel(WORKING_DIR + 'public_housing_physical_inspection_scores_0321.xlsx')"
   ]
  },
  {
   "cell_type": "code",
   "execution_count": null,
   "metadata": {},
   "outputs": [],
   "source": [
    "# session = requests.Session()\n",
    "# results = []\n",
    "# for addy in addresses.values.tolist():\n",
    "#     results.append(code_address(addy, session))\n",
    "# session.close()"
   ]
  },
  {
   "cell_type": "code",
   "execution_count": null,
   "metadata": {},
   "outputs": [],
   "source": [
    "# scores = pd.read_excel(WORKING_DIR + 'multifamily_physical_inspection_scores_0321.xlsx')"
   ]
  },
  {
   "cell_type": "code",
   "execution_count": null,
   "metadata": {},
   "outputs": [],
   "source": [
    "# test = results[4]\n",
    "# distances = []\n",
    "# test_coords = test['result']['addressMatches'][0]['coordinates']\n",
    "# point1 = (test_coords['y'], test_coords['x'])\n",
    "# reac_coords = scores.loc[:, ['LATITUDE', 'LONGITUDE']]\n",
    "# reac_coords = reac_coords.dropna().values.tolist()\n",
    "# for point2 in reac_coords:\n",
    "#     distances.append(geodesic(point1, point2).kilometers)"
   ]
  }
 ],
 "metadata": {
  "language_info": {
   "name": "python"
  },
  "orig_nbformat": 4
 },
 "nbformat": 4,
 "nbformat_minor": 2
}
