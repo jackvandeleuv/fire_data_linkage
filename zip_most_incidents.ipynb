{
 "cells": [
  {
   "cell_type": "code",
   "execution_count": 1,
   "metadata": {},
   "outputs": [],
   "source": [
    "import requests\n",
    "from requests import Session\n",
    "import os\n",
    "import pandas as pd\n",
    "from pandas import DataFrame\n",
    "import sqlite3\n",
    "from typing import Tuple\n",
    "from geopy.distance import geodesic\n",
    "import matplotlib.pyplot as plt\n",
    "import seaborn as sns"
   ]
  },
  {
   "cell_type": "code",
   "execution_count": 2,
   "metadata": {},
   "outputs": [],
   "source": [
    "WORKING_DIR = 'D:/Fire Project/data/'\n",
    "NFIRS_PATHS = ['nfirs_fire_hazmat_pdr_2020/NFIRS_FIRES_2020_022322',\n",
    "                 'USFA NFIRS 2019 Hazmat/NFIRS_FIRES_2019_011921',\n",
    "                 'USFA NFIRS 2018 Hazmat/NFIRS_FIRES_2018_110119',\n",
    "                 'USFA NFIRS 2017 Hazmat/NFIRS_FIRES_2017_020719',\n",
    "                 'USFA NFIRS 2016 Hazmat/NFIRS_FIRES_2016_02-05-2018',\n",
    "                 'USFA NFIRS 2015 Hazmat/NFIRS_FIRES_2015_20170215']"
   ]
  },
  {
   "cell_type": "markdown",
   "metadata": {},
   "source": [
    "## Find areas with high number of reported fire incidents and REAC inspections"
   ]
  },
  {
   "cell_type": "markdown",
   "metadata": {},
   "source": [
    "To start our exploration, let's find the zipcodes that are most represented in both the REAC and NFIRS dataset. This can be good jumping off point for comparing the datasets."
   ]
  },
  {
   "cell_type": "markdown",
   "metadata": {},
   "source": [
    "We can find the most common zips in NFIRS using a SQL query."
   ]
  },
  {
   "cell_type": "code",
   "execution_count": 3,
   "metadata": {},
   "outputs": [],
   "source": [
    "conn = sqlite3.Connection('fire_data.db')\n",
    "cur = conn.cursor()\n",
    "\n",
    "zip_counts = pd.read_sql(\"\"\"\n",
    "SELECT ZIP5 as zipcode, COUNT(*) as count\n",
    "FROM incident_address\n",
    "GROUP BY ZIP5\n",
    "ORDER BY count DESC\n",
    "\"\"\", conn)"
   ]
  },
  {
   "cell_type": "markdown",
   "metadata": {},
   "source": [
    "Likewise, we can use pandas to count zipcodes in the REAC data."
   ]
  },
  {
   "cell_type": "code",
   "execution_count": 4,
   "metadata": {},
   "outputs": [],
   "source": [
    "multifamily_scores = pd.read_excel(WORKING_DIR + 'multifamily_physical_inspection_scores_0321.xlsx')\n",
    "public_housing_scores = pd.read_excel(WORKING_DIR + 'public_housing_physical_inspection_scores_0321.xlsx')"
   ]
  },
  {
   "cell_type": "code",
   "execution_count": 5,
   "metadata": {},
   "outputs": [],
   "source": [
    "multi_family_zips = multifamily_scores.groupby(by='ZIPCODE').size() \\\n",
    "                                                            .sort_values(ascending=False) \\\n",
    "                                                            .reset_index()\n",
    "public_housing_zips = public_housing_scores.groupby(by='ZIPCODE').size() \\\n",
    "                                                            .sort_values(ascending=False) \\\n",
    "                                                            .reset_index()"
   ]
  },
  {
   "cell_type": "markdown",
   "metadata": {},
   "source": [
    "Next, we'll go through the NFIRS data points with a high number of fire incidents and compare that to the REAC dataset to see if there are any matching zipcodes. Because we are mostly interested in the top results, we'll start with the top 1000 matches."
   ]
  },
  {
   "cell_type": "code",
   "execution_count": 6,
   "metadata": {},
   "outputs": [],
   "source": [
    "zip_matches = []\n",
    "i = 0\n",
    "for zipcode, count in zip_counts.values.tolist():\n",
    "    for zip, num in multi_family_zips.values.tolist():\n",
    "        if zipcode == zip:\n",
    "            zip_matches.append((zipcode, count, num))\n",
    "            i += 1\n",
    "    if i > 1000:\n",
    "        break"
   ]
  },
  {
   "cell_type": "markdown",
   "metadata": {},
   "source": [
    "We'll add these values into a dataframe, and multiply together the two counts to find the zipcodes that have high counts in both datasets."
   ]
  },
  {
   "cell_type": "code",
   "execution_count": 7,
   "metadata": {},
   "outputs": [],
   "source": [
    "zip_match_df = pd.DataFrame(zip_matches, columns=['zipcode', 'nfirs_count', 'reac_count'])\n",
    "zip_match_df['combined'] = zip_match_df['nfirs_count'] * zip_match_df['reac_count']"
   ]
  },
  {
   "cell_type": "code",
   "execution_count": 9,
   "metadata": {},
   "outputs": [
    {
     "data": {
      "text/html": [
       "<div>\n",
       "<style scoped>\n",
       "    .dataframe tbody tr th:only-of-type {\n",
       "        vertical-align: middle;\n",
       "    }\n",
       "\n",
       "    .dataframe tbody tr th {\n",
       "        vertical-align: top;\n",
       "    }\n",
       "\n",
       "    .dataframe thead th {\n",
       "        text-align: right;\n",
       "    }\n",
       "</style>\n",
       "<table border=\"1\" class=\"dataframe\">\n",
       "  <thead>\n",
       "    <tr style=\"text-align: right;\">\n",
       "      <th></th>\n",
       "      <th>zipcode</th>\n",
       "      <th>nfirs_count</th>\n",
       "      <th>reac_count</th>\n",
       "      <th>combined</th>\n",
       "    </tr>\n",
       "  </thead>\n",
       "  <tbody>\n",
       "    <tr>\n",
       "      <th>100</th>\n",
       "      <td>60637</td>\n",
       "      <td>3858</td>\n",
       "      <td>33.0</td>\n",
       "      <td>127314.0</td>\n",
       "    </tr>\n",
       "    <tr>\n",
       "      <th>210</th>\n",
       "      <td>2119</td>\n",
       "      <td>3187</td>\n",
       "      <td>35.0</td>\n",
       "      <td>111545.0</td>\n",
       "    </tr>\n",
       "    <tr>\n",
       "      <th>8</th>\n",
       "      <td>10029</td>\n",
       "      <td>6920</td>\n",
       "      <td>16.0</td>\n",
       "      <td>110720.0</td>\n",
       "    </tr>\n",
       "    <tr>\n",
       "      <th>4</th>\n",
       "      <td>10701</td>\n",
       "      <td>7905</td>\n",
       "      <td>14.0</td>\n",
       "      <td>110670.0</td>\n",
       "    </tr>\n",
       "    <tr>\n",
       "      <th>477</th>\n",
       "      <td>60653</td>\n",
       "      <td>2525</td>\n",
       "      <td>41.0</td>\n",
       "      <td>103525.0</td>\n",
       "    </tr>\n",
       "    <tr>\n",
       "      <th>11</th>\n",
       "      <td>11207</td>\n",
       "      <td>6328</td>\n",
       "      <td>16.0</td>\n",
       "      <td>101248.0</td>\n",
       "    </tr>\n",
       "    <tr>\n",
       "      <th>6</th>\n",
       "      <td>11212</td>\n",
       "      <td>7347</td>\n",
       "      <td>13.0</td>\n",
       "      <td>95511.0</td>\n",
       "    </tr>\n",
       "    <tr>\n",
       "      <th>2</th>\n",
       "      <td>27405</td>\n",
       "      <td>10597</td>\n",
       "      <td>9.0</td>\n",
       "      <td>95373.0</td>\n",
       "    </tr>\n",
       "    <tr>\n",
       "      <th>17</th>\n",
       "      <td>10002</td>\n",
       "      <td>5734</td>\n",
       "      <td>16.0</td>\n",
       "      <td>91744.0</td>\n",
       "    </tr>\n",
       "    <tr>\n",
       "      <th>3</th>\n",
       "      <td>3060</td>\n",
       "      <td>8565</td>\n",
       "      <td>10.0</td>\n",
       "      <td>85650.0</td>\n",
       "    </tr>\n",
       "    <tr>\n",
       "      <th>54</th>\n",
       "      <td>10025</td>\n",
       "      <td>4711</td>\n",
       "      <td>18.0</td>\n",
       "      <td>84798.0</td>\n",
       "    </tr>\n",
       "    <tr>\n",
       "      <th>41</th>\n",
       "      <td>2128</td>\n",
       "      <td>4942</td>\n",
       "      <td>17.0</td>\n",
       "      <td>84014.0</td>\n",
       "    </tr>\n",
       "    <tr>\n",
       "      <th>64</th>\n",
       "      <td>11213</td>\n",
       "      <td>4420</td>\n",
       "      <td>19.0</td>\n",
       "      <td>83980.0</td>\n",
       "    </tr>\n",
       "    <tr>\n",
       "      <th>380</th>\n",
       "      <td>2121</td>\n",
       "      <td>2696</td>\n",
       "      <td>31.0</td>\n",
       "      <td>83576.0</td>\n",
       "    </tr>\n",
       "    <tr>\n",
       "      <th>95</th>\n",
       "      <td>1201</td>\n",
       "      <td>3898</td>\n",
       "      <td>21.0</td>\n",
       "      <td>81858.0</td>\n",
       "    </tr>\n",
       "    <tr>\n",
       "      <th>81</th>\n",
       "      <td>10460</td>\n",
       "      <td>4058</td>\n",
       "      <td>20.0</td>\n",
       "      <td>81160.0</td>\n",
       "    </tr>\n",
       "    <tr>\n",
       "      <th>38</th>\n",
       "      <td>29150</td>\n",
       "      <td>4964</td>\n",
       "      <td>16.0</td>\n",
       "      <td>79424.0</td>\n",
       "    </tr>\n",
       "    <tr>\n",
       "      <th>65</th>\n",
       "      <td>60649</td>\n",
       "      <td>4389</td>\n",
       "      <td>18.0</td>\n",
       "      <td>79002.0</td>\n",
       "    </tr>\n",
       "    <tr>\n",
       "      <th>134</th>\n",
       "      <td>20020</td>\n",
       "      <td>3656</td>\n",
       "      <td>20.0</td>\n",
       "      <td>73120.0</td>\n",
       "    </tr>\n",
       "    <tr>\n",
       "      <th>193</th>\n",
       "      <td>10026</td>\n",
       "      <td>3263</td>\n",
       "      <td>22.0</td>\n",
       "      <td>71786.0</td>\n",
       "    </tr>\n",
       "  </tbody>\n",
       "</table>\n",
       "</div>"
      ],
      "text/plain": [
       "     zipcode  nfirs_count  reac_count  combined\n",
       "100    60637         3858        33.0  127314.0\n",
       "210     2119         3187        35.0  111545.0\n",
       "8      10029         6920        16.0  110720.0\n",
       "4      10701         7905        14.0  110670.0\n",
       "477    60653         2525        41.0  103525.0\n",
       "11     11207         6328        16.0  101248.0\n",
       "6      11212         7347        13.0   95511.0\n",
       "2      27405        10597         9.0   95373.0\n",
       "17     10002         5734        16.0   91744.0\n",
       "3       3060         8565        10.0   85650.0\n",
       "54     10025         4711        18.0   84798.0\n",
       "41      2128         4942        17.0   84014.0\n",
       "64     11213         4420        19.0   83980.0\n",
       "380     2121         2696        31.0   83576.0\n",
       "95      1201         3898        21.0   81858.0\n",
       "81     10460         4058        20.0   81160.0\n",
       "38     29150         4964        16.0   79424.0\n",
       "65     60649         4389        18.0   79002.0\n",
       "134    20020         3656        20.0   73120.0\n",
       "193    10026         3263        22.0   71786.0"
      ]
     },
     "execution_count": 9,
     "metadata": {},
     "output_type": "execute_result"
    }
   ],
   "source": [
    "# Print resulting values\n",
    "zip_match_df.sort_values(by='combined', ascending=False).head(20)"
   ]
  }
 ],
 "metadata": {
  "kernelspec": {
   "display_name": "base",
   "language": "python",
   "name": "python3"
  },
  "language_info": {
   "codemirror_mode": {
    "name": "ipython",
    "version": 3
   },
   "file_extension": ".py",
   "mimetype": "text/x-python",
   "name": "python",
   "nbconvert_exporter": "python",
   "pygments_lexer": "ipython3",
   "version": "3.9.13"
  },
  "orig_nbformat": 4
 },
 "nbformat": 4,
 "nbformat_minor": 2
}
