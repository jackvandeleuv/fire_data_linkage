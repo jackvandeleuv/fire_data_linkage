{
 "cells": [
  {
   "cell_type": "code",
   "execution_count": 2,
   "metadata": {},
   "outputs": [],
   "source": [
    "import requests\n",
    "from requests import Session\n",
    "import os\n",
    "import pandas as pd\n",
    "from pandas import DataFrame\n",
    "import sqlite3\n",
    "from typing import Tuple\n",
    "from geopy.distance import geodesic\n",
    "import matplotlib.pyplot as plt\n",
    "import seaborn as sns\n",
    "import time"
   ]
  },
  {
   "cell_type": "code",
   "execution_count": null,
   "metadata": {},
   "outputs": [],
   "source": [
    "WORKING_DIR = 'D:/Fire Project/data/'\n",
    "NFIRS_PATHS = ['nfirs_fire_hazmat_pdr_2020/NFIRS_FIRES_2020_022322',\n",
    "                 'USFA NFIRS 2019 Hazmat/NFIRS_FIRES_2019_011921',\n",
    "                 'USFA NFIRS 2018 Hazmat/NFIRS_FIRES_2018_110119',\n",
    "                 'USFA NFIRS 2017 Hazmat/NFIRS_FIRES_2017_020719',\n",
    "                 'USFA NFIRS 2016 Hazmat/NFIRS_FIRES_2016_02-05-2018',\n",
    "                 'USFA NFIRS 2015 Hazmat/NFIRS_FIRES_2015_20170215']"
   ]
  },
  {
   "attachments": {},
   "cell_type": "markdown",
   "metadata": {},
   "source": [
    "The goal of this notebook is to link HUD REAC inspection addresses with FEMA NFIRS fire incident addresses."
   ]
  },
  {
   "attachments": {},
   "cell_type": "markdown",
   "metadata": {},
   "source": [
    "This function gets standard, geocoded information about matching addresses from the U.S. Census Bureau API."
   ]
  },
  {
   "cell_type": "code",
   "execution_count": 144,
   "metadata": {},
   "outputs": [],
   "source": [
    "def code_address(address: Tuple[str], session: Session) -> dict:\n",
    "    street = address[0].upper().strip()\n",
    "    city = address[1].upper().strip()\n",
    "    state = address[2].upper().strip()\n",
    "    zipcode = str(address[3]).strip()\n",
    "    \n",
    "    BENCHMARK = \"Public_AR_Current\"\n",
    "    VINTAGE = \"Current_Current\"\n",
    "    OUTPUT_FORMAT = \"json\"\n",
    "\n",
    "    # URL encode the address components and construct the API request URL\n",
    "    URL = f\"https://geocoding.geo.census.gov/geocoder/locations/onelineaddress?address={street.replace(' ', '+')},+{city.replace(' ', '+')}%2C+{state}+{zipcode}&benchmark={BENCHMARK}&vintage={VINTAGE}&format={OUTPUT_FORMAT}\"\n",
    "\n",
    "    response = session.get(URL)\n",
    "    if response.status_code == 200:\n",
    "        return response.json()\n",
    "    else:\n",
    "        print(\"Request failed\")\n",
    "        return None"
   ]
  },
  {
   "attachments": {},
   "cell_type": "markdown",
   "metadata": {},
   "source": [
    "Because the data from NFIRS doesn't have longitude and latitude, we'll add this data using the Census Bureau API so that we can compare the geographic locations of the two sets of addresses."
   ]
  },
  {
   "attachments": {},
   "cell_type": "markdown",
   "metadata": {},
   "source": [
    "To get a more granular look, we will use the Census Bureau's geocoding api to get longitude and latitude data for every point in our database that is located in NY state."
   ]
  },
  {
   "cell_type": "markdown",
   "metadata": {},
   "source": [
    "We'll start by creating a table to store the latitude and longitude data and connecting it to our existing list of addresses."
   ]
  },
  {
   "cell_type": "code",
   "execution_count": 158,
   "metadata": {},
   "outputs": [],
   "source": [
    "# conn = sqlite3.Connection('fire_data.db')\n",
    "# cur = conn.cursor()\n",
    "# cur.execute(\"\"\"\n",
    "#     CREATE TABLE IF NOT EXISTS address_geocoded (\n",
    "#         id INTEGER PRIMARY KEY,\n",
    "#         latitude REAL,\n",
    "#         longitude REAL,\n",
    "#         INCIDENT_KEY TEXT,\n",
    "#         FOREIGN KEY (INCIDENT_KEY)\n",
    "#             REFERENCES incident_address(INCIDENT_KEY)\n",
    "#     )\n",
    "# \"\"\")\n",
    "# conn.commit()"
   ]
  },
  {
   "cell_type": "code",
   "execution_count": 172,
   "metadata": {},
   "outputs": [],
   "source": [
    "def insert_coordinates(latitude: float, longitude: float, incident_key: str, conn) -> None:\n",
    "    cur = conn.cursor()\n",
    "    cur.execute(\"\"\"INSERT INTO address_geocoded (\n",
    "                            latitude, \n",
    "                            longitude, \n",
    "                            INCIDENT_KEY) \n",
    "                        VALUES (\n",
    "                            ?, ?, ?\n",
    "                        )\n",
    "    \"\"\", (latitude, longitude, incident_key))\n",
    "    conn.commit()"
   ]
  },
  {
   "cell_type": "code",
   "execution_count": 173,
   "metadata": {},
   "outputs": [],
   "source": [
    "conn = sqlite3.Connection('fire_data.db')\n",
    "cur = conn.cursor()\n",
    "\n",
    "cur.execute(\"\"\"\n",
    "SELECT INCIDENT_KEY,\n",
    "    COALESCE(NUM_MILE, '') || ' ' ||\n",
    "    COALESCE(STREET_PRE, '') || ' ' ||\n",
    "    COALESCE(STREETNAME, '') || ' ' ||\n",
    "    COALESCE(STREETTYPE, '') || ' ' ||\n",
    "    COALESCE(STREETSUF, '') || ' ' ||\n",
    "    COALESCE(APT_NO, '') as street,\n",
    "    CITY as city,\n",
    "    STATE as state,\n",
    "    ZIP5 as zipcode\n",
    "FROM incident_address\n",
    "WHERE STATE = 'NY'\n",
    "ORDER BY RANDOM()\n",
    "\"\"\")\n",
    "ny_addresses = cur.fetchall()"
   ]
  },
  {
   "attachments": {},
   "cell_type": "markdown",
   "metadata": {},
   "source": [
    "Now we'll go address-by-address returned by the SELECT query and get the coordinates from the API."
   ]
  },
  {
   "cell_type": "code",
   "execution_count": 2,
   "metadata": {},
   "outputs": [],
   "source": [
    "# session = requests.Session()\n",
    "# count = 0\n",
    "# try:\n",
    "#     for row in ny_addresses:\n",
    "#         incident_key = row[0]\n",
    "#         address = row[1:]\n",
    "#         census_result = code_address(address, session)\n",
    "\n",
    "#         if census_result:\n",
    "#             matches = census_result['result']['addressMatches']\n",
    "#             if matches:\n",
    "#                 # Keep only the first match\n",
    "#                 matches = matches[0]\n",
    "#                 coordinates = matches['coordinates']\n",
    "#                 insert_coordinates(coordinates['y'], coordinates['x'], incident_key, conn)\n",
    "#                 count += 1\n",
    "#                 if count % 1000 == 0:\n",
    "#                     print(count, time.time())\n",
    "# finally:\n",
    "#     session.close()"
   ]
  }
 ],
 "metadata": {
  "kernelspec": {
   "display_name": "base",
   "language": "python",
   "name": "python3"
  },
  "language_info": {
   "codemirror_mode": {
    "name": "ipython",
    "version": 3
   },
   "file_extension": ".py",
   "mimetype": "text/x-python",
   "name": "python",
   "nbconvert_exporter": "python",
   "pygments_lexer": "ipython3",
   "version": "3.9.13"
  },
  "orig_nbformat": 4
 },
 "nbformat": 4,
 "nbformat_minor": 2
}
